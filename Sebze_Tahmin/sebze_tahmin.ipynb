{
  "nbformat": 4,
  "nbformat_minor": 0,
  "metadata": {
    "colab": {
      "name": "Untitled1.ipynb",
      "provenance": []
    },
    "kernelspec": {
      "name": "python3",
      "display_name": "Python 3"
    }
  },
  "cells": [
    {
      "cell_type": "code",
      "metadata": {
        "id": "KwzGUvkDAckZ",
        "colab_type": "code",
        "outputId": "8c507a3e-87f6-489f-ba5e-14809d71c0af",
        "colab": {
          "resources": {
            "http://localhost:8080/nbextensions/google.colab/files.js": {
              "data": "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",
              "ok": true,
              "headers": [
                [
                  "content-type",
                  "application/javascript"
                ]
              ],
              "status": 200,
              "status_text": ""
            }
          },
          "base_uri": "https://localhost:8080/",
          "height": 88
        }
      },
      "source": [
        "from google.colab import files\n",
        "uploaded = files.upload()"
      ],
      "execution_count": 0,
      "outputs": [
        {
          "output_type": "display_data",
          "data": {
            "text/html": [
              "\n",
              "     <input type=\"file\" id=\"files-98f2991a-85d6-4214-b20b-b7db341d45cc\" name=\"files[]\" multiple disabled />\n",
              "     <output id=\"result-98f2991a-85d6-4214-b20b-b7db341d45cc\">\n",
              "      Upload widget is only available when the cell has been executed in the\n",
              "      current browser session. Please rerun this cell to enable.\n",
              "      </output>\n",
              "      <script src=\"/nbextensions/google.colab/files.js\"></script> "
            ],
            "text/plain": [
              "<IPython.core.display.HTML object>"
            ]
          },
          "metadata": {
            "tags": []
          }
        },
        {
          "output_type": "stream",
          "text": [
            "Saving can_yeni.xlsx to can_yeni.xlsx\n"
          ],
          "name": "stdout"
        }
      ]
    },
    {
      "cell_type": "code",
      "metadata": {
        "id": "dWWIk3nLAdq0",
        "colab_type": "code",
        "outputId": "f328c1fc-6de8-4bfc-b77f-bc6136d0772a",
        "colab": {
          "base_uri": "https://localhost:8080/",
          "height": 82
        }
      },
      "source": [
        "!pip install pyyaml h5py"
      ],
      "execution_count": 0,
      "outputs": [
        {
          "output_type": "stream",
          "text": [
            "Requirement already satisfied: pyyaml in /usr/local/lib/python3.6/dist-packages (3.13)\n",
            "Requirement already satisfied: h5py in /usr/local/lib/python3.6/dist-packages (2.10.0)\n",
            "Requirement already satisfied: six in /usr/local/lib/python3.6/dist-packages (from h5py) (1.12.0)\n",
            "Requirement already satisfied: numpy>=1.7 in /usr/local/lib/python3.6/dist-packages (from h5py) (1.18.5)\n"
          ],
          "name": "stdout"
        }
      ]
    },
    {
      "cell_type": "code",
      "metadata": {
        "id": "zayNsmNlBPOv",
        "colab_type": "code",
        "colab": {}
      },
      "source": [
        "import io\n",
        "import pandas as pd\n",
        "import numpy as np"
      ],
      "execution_count": 0,
      "outputs": []
    },
    {
      "cell_type": "code",
      "metadata": {
        "id": "sgrSv8f9DAVT",
        "colab_type": "code",
        "outputId": "cbefd1a4-566b-44f2-95fc-b2225a52f9b0",
        "colab": {
          "base_uri": "https://localhost:8080/",
          "height": 86
        }
      },
      "source": [
        "import math\n",
        "import pandas_datareader as web\n",
        "import numpy as np\n",
        "import pandas as pd\n",
        "from sklearn.preprocessing import MinMaxScaler\n",
        "from keras.models import Sequential\n",
        "from keras.layers import Dense, LSTM\n",
        "import matplotlib.pyplot as plt"
      ],
      "execution_count": 0,
      "outputs": [
        {
          "output_type": "stream",
          "text": [
            "/usr/local/lib/python3.6/dist-packages/pandas_datareader/compat/__init__.py:7: FutureWarning: pandas.util.testing is deprecated. Use the functions in the public API at pandas.testing instead.\n",
            "  from pandas.util.testing import assert_frame_equal\n",
            "Using TensorFlow backend.\n"
          ],
          "name": "stderr"
        }
      ]
    },
    {
      "cell_type": "code",
      "metadata": {
        "id": "zbWBfnGqBfhk",
        "colab_type": "code",
        "colab": {}
      },
      "source": [
        "data = pd.read_excel(io.BytesIO(uploaded['can_yeni.xlsx']))\n",
        "data = data.fillna(data.mean())"
      ],
      "execution_count": 0,
      "outputs": []
    },
    {
      "cell_type": "code",
      "metadata": {
        "id": "ZFXiolWxo1gC",
        "colab_type": "code",
        "outputId": "7809794c-bdde-4e99-b5d2-1630f0734d6a",
        "colab": {
          "base_uri": "https://localhost:8080/",
          "height": 391
        }
      },
      "source": [
        "data"
      ],
      "execution_count": 0,
      "outputs": [
        {
          "output_type": "execute_result",
          "data": {
            "text/html": [
              "<div>\n",
              "<style scoped>\n",
              "    .dataframe tbody tr th:only-of-type {\n",
              "        vertical-align: middle;\n",
              "    }\n",
              "\n",
              "    .dataframe tbody tr th {\n",
              "        vertical-align: top;\n",
              "    }\n",
              "\n",
              "    .dataframe thead th {\n",
              "        text-align: right;\n",
              "    }\n",
              "</style>\n",
              "<table border=\"1\" class=\"dataframe\">\n",
              "  <thead>\n",
              "    <tr style=\"text-align: right;\">\n",
              "      <th></th>\n",
              "      <th>Tarih</th>\n",
              "      <th>PM10</th>\n",
              "      <th>SO2</th>\n",
              "      <th>NO2</th>\n",
              "      <th>O3</th>\n",
              "      <th>Sebze</th>\n",
              "    </tr>\n",
              "  </thead>\n",
              "  <tbody>\n",
              "    <tr>\n",
              "      <th>0</th>\n",
              "      <td>2019-05-01 00:00:56</td>\n",
              "      <td>55.930000</td>\n",
              "      <td>10.800000</td>\n",
              "      <td>6.25</td>\n",
              "      <td>44.340000</td>\n",
              "      <td>616</td>\n",
              "    </tr>\n",
              "    <tr>\n",
              "      <th>1</th>\n",
              "      <td>2019-05-02 00:00:56</td>\n",
              "      <td>34.140000</td>\n",
              "      <td>18.180000</td>\n",
              "      <td>6.42</td>\n",
              "      <td>41.180000</td>\n",
              "      <td>662</td>\n",
              "    </tr>\n",
              "    <tr>\n",
              "      <th>2</th>\n",
              "      <td>2019-05-03 00:00:56</td>\n",
              "      <td>126.610000</td>\n",
              "      <td>39.710000</td>\n",
              "      <td>7.38</td>\n",
              "      <td>33.860000</td>\n",
              "      <td>594</td>\n",
              "    </tr>\n",
              "    <tr>\n",
              "      <th>3</th>\n",
              "      <td>2019-05-04 00:00:56</td>\n",
              "      <td>61.400000</td>\n",
              "      <td>27.260000</td>\n",
              "      <td>9.89</td>\n",
              "      <td>37.600000</td>\n",
              "      <td>728</td>\n",
              "    </tr>\n",
              "    <tr>\n",
              "      <th>4</th>\n",
              "      <td>2019-05-05 00:00:56</td>\n",
              "      <td>74.090000</td>\n",
              "      <td>18.750000</td>\n",
              "      <td>6.42</td>\n",
              "      <td>40.150000</td>\n",
              "      <td>602</td>\n",
              "    </tr>\n",
              "    <tr>\n",
              "      <th>...</th>\n",
              "      <td>...</td>\n",
              "      <td>...</td>\n",
              "      <td>...</td>\n",
              "      <td>...</td>\n",
              "      <td>...</td>\n",
              "      <td>...</td>\n",
              "    </tr>\n",
              "    <tr>\n",
              "      <th>115</th>\n",
              "      <td>2019-08-24 00:00:56</td>\n",
              "      <td>44.700000</td>\n",
              "      <td>2.900000</td>\n",
              "      <td>1.61</td>\n",
              "      <td>95.510000</td>\n",
              "      <td>596</td>\n",
              "    </tr>\n",
              "    <tr>\n",
              "      <th>116</th>\n",
              "      <td>2019-08-25 00:00:56</td>\n",
              "      <td>44.780000</td>\n",
              "      <td>5.110000</td>\n",
              "      <td>1.81</td>\n",
              "      <td>104.700000</td>\n",
              "      <td>626</td>\n",
              "    </tr>\n",
              "    <tr>\n",
              "      <th>117</th>\n",
              "      <td>2019-08-26 00:00:56</td>\n",
              "      <td>44.470000</td>\n",
              "      <td>5.260000</td>\n",
              "      <td>2.04</td>\n",
              "      <td>108.540000</td>\n",
              "      <td>604</td>\n",
              "    </tr>\n",
              "    <tr>\n",
              "      <th>118</th>\n",
              "      <td>2019-08-27 00:00:56</td>\n",
              "      <td>45.807407</td>\n",
              "      <td>17.028585</td>\n",
              "      <td>5.05</td>\n",
              "      <td>73.647944</td>\n",
              "      <td>752</td>\n",
              "    </tr>\n",
              "    <tr>\n",
              "      <th>119</th>\n",
              "      <td>2019-08-28 00:00:56</td>\n",
              "      <td>41.020000</td>\n",
              "      <td>4.240000</td>\n",
              "      <td>5.05</td>\n",
              "      <td>116.090000</td>\n",
              "      <td>739</td>\n",
              "    </tr>\n",
              "  </tbody>\n",
              "</table>\n",
              "<p>120 rows × 6 columns</p>\n",
              "</div>"
            ],
            "text/plain": [
              "                  Tarih        PM10        SO2   NO2          O3  Sebze\n",
              "0   2019-05-01 00:00:56   55.930000  10.800000  6.25   44.340000    616\n",
              "1   2019-05-02 00:00:56   34.140000  18.180000  6.42   41.180000    662\n",
              "2   2019-05-03 00:00:56  126.610000  39.710000  7.38   33.860000    594\n",
              "3   2019-05-04 00:00:56   61.400000  27.260000  9.89   37.600000    728\n",
              "4   2019-05-05 00:00:56   74.090000  18.750000  6.42   40.150000    602\n",
              "..                  ...         ...        ...   ...         ...    ...\n",
              "115 2019-08-24 00:00:56   44.700000   2.900000  1.61   95.510000    596\n",
              "116 2019-08-25 00:00:56   44.780000   5.110000  1.81  104.700000    626\n",
              "117 2019-08-26 00:00:56   44.470000   5.260000  2.04  108.540000    604\n",
              "118 2019-08-27 00:00:56   45.807407  17.028585  5.05   73.647944    752\n",
              "119 2019-08-28 00:00:56   41.020000   4.240000  5.05  116.090000    739\n",
              "\n",
              "[120 rows x 6 columns]"
            ]
          },
          "metadata": {
            "tags": []
          },
          "execution_count": 7
        }
      ]
    },
    {
      "cell_type": "code",
      "metadata": {
        "id": "hShGX-NdCNHu",
        "colab_type": "code",
        "outputId": "e8e9022a-9530-4722-eb6c-eaa718e0aa11",
        "colab": {
          "base_uri": "https://localhost:8080/",
          "height": 438
        }
      },
      "source": [
        "plt.figure(figsize=(16,8))\n",
        "plt.plot(data.Tarih,data.Sebze)\n",
        "plt.show()"
      ],
      "execution_count": 0,
      "outputs": [
        {
          "output_type": "display_data",
          "data": {
            "image/png": "[encoded data removed]",
            "text/plain": [
              "<Figure size 1152x576 with 1 Axes>"
            ]
          },
          "metadata": {
            "tags": [],
            "needs_background": "light"
          }
        }
      ]
    },
    {
      "cell_type": "code",
      "metadata": {
        "id": "hn7LI11eDVs8",
        "colab_type": "code",
        "colab": {}
      },
      "source": [
        "data = data.filter(['Sebze'])\n",
        "dataset = data.values\n",
        "training_data_len = math.ceil( len(dataset) *.70)\n",
        "scaler = MinMaxScaler(feature_range=(0, 1)) \n",
        "scaled_data = scaler.fit_transform(dataset)"
      ],
      "execution_count": 0,
      "outputs": []
    },
    {
      "cell_type": "code",
      "metadata": {
        "id": "ubtuqVUMG3iE",
        "colab_type": "code",
        "colab": {}
      },
      "source": [
        "train_data = scaled_data[0:training_data_len  , : ]\n",
        "x_train=[]\n",
        "y_train = []\n",
        "for i in range(60,len(train_data)):\n",
        "    x_train.append(train_data[i-60:i,0])\n",
        "    y_train.append(train_data[i,0])\n",
        "len(train_data)\n",
        "\n",
        "x_train, y_train = np.array(x_train), np.array(y_train)\n",
        "\n",
        "x_train = np.reshape(x_train, (x_train.shape[0],x_train.shape[1],1))"
      ],
      "execution_count": 0,
      "outputs": []
    },
    {
      "cell_type": "code",
      "metadata": {
        "id": "uIoReFJ6HiDl",
        "colab_type": "code",
        "outputId": "d703460c-e9ce-429b-8b11-b14100e04598",
        "colab": {
          "base_uri": "https://localhost:8080/",
          "height": 1000
        }
      },
      "source": [
        "#LSTM AĞ MODELİ \n",
        "model = Sequential()   \n",
        "model.add(LSTM(units=50, return_sequences=True,input_shape=(x_train.shape[1],1)))\n",
        "model.add(LSTM(units=50, return_sequences=False))\n",
        "model.add(Dense(units=25))\n",
        "model.add(Dense(units=1))\n",
        "\n",
        "model.compile(optimizer='adam', loss='mean_squared_error',metrics=['accuracy'])\n",
        "\n",
        "model.fit(x_train, y_train, batch_size=2, epochs=90)         #modeli eğit\n",
        "\n",
        "test_data = scaled_data[training_data_len - 60: , : ]    #test veri kümesi"
      ],
      "execution_count": 0,
      "outputs": [
        {
          "output_type": "stream",
          "text": [
            "Epoch 1/90\n",
            "24/24 [==============================] - 1s 57ms/step - loss: 0.1025 - accuracy: 0.0000e+00\n",
            "Epoch 2/90\n",
            "24/24 [==============================] - 1s 22ms/step - loss: 0.0632 - accuracy: 0.0000e+00\n",
            "Epoch 3/90\n",
            "24/24 [==============================] - 1s 22ms/step - loss: 0.0512 - accuracy: 0.0000e+00\n",
            "Epoch 4/90\n",
            "24/24 [==============================] - 1s 22ms/step - loss: 0.0640 - accuracy: 0.0000e+00\n",
            "Epoch 5/90\n",
            "24/24 [==============================] - 1s 22ms/step - loss: 0.0570 - accuracy: 0.0000e+00\n",
            "Epoch 6/90\n",
            "24/24 [==============================] - 1s 23ms/step - loss: 0.0578 - accuracy: 0.0000e+00\n",
            "Epoch 7/90\n",
            "24/24 [==============================] - 1s 22ms/step - loss: 0.0615 - accuracy: 0.0000e+00\n",
            "Epoch 8/90\n",
            "24/24 [==============================] - 1s 22ms/step - loss: 0.0548 - accuracy: 0.0000e+00\n",
            "Epoch 9/90\n",
            "24/24 [==============================] - 1s 22ms/step - loss: 0.0572 - accuracy: 0.0000e+00\n",
            "Epoch 10/90\n",
            "24/24 [==============================] - 1s 22ms/step - loss: 0.0555 - accuracy: 0.0000e+00\n",
            "Epoch 11/90\n",
            "24/24 [==============================] - 1s 22ms/step - loss: 0.0560 - accuracy: 0.0000e+00\n",
            "Epoch 12/90\n",
            "24/24 [==============================] - 1s 22ms/step - loss: 0.0560 - accuracy: 0.0000e+00\n",
            "Epoch 13/90\n",
            "24/24 [==============================] - 1s 22ms/step - loss: 0.0566 - accuracy: 0.0000e+00\n",
            "Epoch 14/90\n",
            "24/24 [==============================] - 1s 23ms/step - loss: 0.0608 - accuracy: 0.0000e+00\n",
            "Epoch 15/90\n",
            "24/24 [==============================] - 1s 22ms/step - loss: 0.0561 - accuracy: 0.0000e+00\n",
            "Epoch 16/90\n",
            "24/24 [==============================] - 1s 22ms/step - loss: 0.0542 - accuracy: 0.0000e+00\n",
            "Epoch 17/90\n",
            "24/24 [==============================] - 1s 22ms/step - loss: 0.0646 - accuracy: 0.0000e+00\n",
            "Epoch 18/90\n",
            "24/24 [==============================] - 1s 22ms/step - loss: 0.0572 - accuracy: 0.0000e+00\n",
            "Epoch 19/90\n",
            "24/24 [==============================] - 1s 22ms/step - loss: 0.0534 - accuracy: 0.0000e+00\n",
            "Epoch 20/90\n",
            "24/24 [==============================] - 1s 22ms/step - loss: 0.0669 - accuracy: 0.0000e+00\n",
            "Epoch 21/90\n",
            "24/24 [==============================] - 1s 22ms/step - loss: 0.0524 - accuracy: 0.0000e+00\n",
            "Epoch 22/90\n",
            "24/24 [==============================] - 1s 21ms/step - loss: 0.0545 - accuracy: 0.0000e+00\n",
            "Epoch 23/90\n",
            "24/24 [==============================] - 1s 22ms/step - loss: 0.0573 - accuracy: 0.0000e+00\n",
            "Epoch 24/90\n",
            "24/24 [==============================] - 1s 22ms/step - loss: 0.0545 - accuracy: 0.0000e+00\n",
            "Epoch 25/90\n",
            "24/24 [==============================] - 1s 22ms/step - loss: 0.0555 - accuracy: 0.0000e+00\n",
            "Epoch 26/90\n",
            "24/24 [==============================] - 1s 22ms/step - loss: 0.0594 - accuracy: 0.0000e+00\n",
            "Epoch 27/90\n",
            "24/24 [==============================] - 1s 22ms/step - loss: 0.0551 - accuracy: 0.0000e+00\n",
            "Epoch 28/90\n",
            "24/24 [==============================] - 1s 21ms/step - loss: 0.0574 - accuracy: 0.0000e+00\n",
            "Epoch 29/90\n",
            "24/24 [==============================] - 1s 22ms/step - loss: 0.0540 - accuracy: 0.0000e+00\n",
            "Epoch 30/90\n",
            "24/24 [==============================] - 1s 22ms/step - loss: 0.0566 - accuracy: 0.0000e+00\n",
            "Epoch 31/90\n",
            "24/24 [==============================] - 1s 22ms/step - loss: 0.0594 - accuracy: 0.0000e+00\n",
            "Epoch 32/90\n",
            "24/24 [==============================] - 1s 22ms/step - loss: 0.0512 - accuracy: 0.0000e+00\n",
            "Epoch 33/90\n",
            "24/24 [==============================] - 1s 22ms/step - loss: 0.0550 - accuracy: 0.0000e+00\n",
            "Epoch 34/90\n",
            "24/24 [==============================] - 1s 21ms/step - loss: 0.0544 - accuracy: 0.0000e+00\n",
            "Epoch 35/90\n",
            "24/24 [==============================] - 1s 21ms/step - loss: 0.0548 - accuracy: 0.0000e+00\n",
            "Epoch 36/90\n",
            "24/24 [==============================] - 1s 22ms/step - loss: 0.0537 - accuracy: 0.0000e+00\n",
            "Epoch 37/90\n",
            "24/24 [==============================] - 1s 21ms/step - loss: 0.0538 - accuracy: 0.0000e+00\n",
            "Epoch 38/90\n",
            "24/24 [==============================] - 1s 22ms/step - loss: 0.0562 - accuracy: 0.0000e+00\n",
            "Epoch 39/90\n",
            "24/24 [==============================] - 1s 21ms/step - loss: 0.0549 - accuracy: 0.0000e+00\n",
            "Epoch 40/90\n",
            "24/24 [==============================] - 1s 22ms/step - loss: 0.0546 - accuracy: 0.0000e+00\n",
            "Epoch 41/90\n",
            "24/24 [==============================] - 1s 22ms/step - loss: 0.0527 - accuracy: 0.0000e+00\n",
            "Epoch 42/90\n",
            "24/24 [==============================] - 1s 22ms/step - loss: 0.0543 - accuracy: 0.0000e+00\n",
            "Epoch 43/90\n",
            "24/24 [==============================] - 1s 22ms/step - loss: 0.0547 - accuracy: 0.0000e+00\n",
            "Epoch 44/90\n",
            "24/24 [==============================] - 1s 22ms/step - loss: 0.0626 - accuracy: 0.0000e+00\n",
            "Epoch 45/90\n",
            "24/24 [==============================] - 1s 22ms/step - loss: 0.0525 - accuracy: 0.0000e+00\n",
            "Epoch 46/90\n",
            "24/24 [==============================] - 1s 21ms/step - loss: 0.0554 - accuracy: 0.0000e+00\n",
            "Epoch 47/90\n",
            "24/24 [==============================] - 1s 22ms/step - loss: 0.0526 - accuracy: 0.0000e+00\n",
            "Epoch 48/90\n",
            "24/24 [==============================] - 1s 21ms/step - loss: 0.0561 - accuracy: 0.0000e+00\n",
            "Epoch 49/90\n",
            "24/24 [==============================] - 1s 22ms/step - loss: 0.0508 - accuracy: 0.0000e+00\n",
            "Epoch 50/90\n",
            "24/24 [==============================] - 1s 22ms/step - loss: 0.0573 - accuracy: 0.0000e+00\n",
            "Epoch 51/90\n",
            "24/24 [==============================] - 1s 22ms/step - loss: 0.0552 - accuracy: 0.0000e+00\n",
            "Epoch 52/90\n",
            "24/24 [==============================] - 1s 22ms/step - loss: 0.0538 - accuracy: 0.0000e+00\n",
            "Epoch 53/90\n",
            "24/24 [==============================] - 1s 23ms/step - loss: 0.0529 - accuracy: 0.0000e+00\n",
            "Epoch 54/90\n",
            "24/24 [==============================] - 1s 22ms/step - loss: 0.0497 - accuracy: 0.0000e+00\n",
            "Epoch 55/90\n",
            "24/24 [==============================] - 1s 22ms/step - loss: 0.0513 - accuracy: 0.0000e+00\n",
            "Epoch 56/90\n",
            "24/24 [==============================] - 1s 22ms/step - loss: 0.0495 - accuracy: 0.0000e+00\n",
            "Epoch 57/90\n",
            "24/24 [==============================] - 1s 21ms/step - loss: 0.0524 - accuracy: 0.0000e+00\n",
            "Epoch 58/90\n",
            "24/24 [==============================] - 1s 21ms/step - loss: 0.0505 - accuracy: 0.0000e+00\n",
            "Epoch 59/90\n",
            "24/24 [==============================] - 1s 21ms/step - loss: 0.0521 - accuracy: 0.0000e+00\n",
            "Epoch 60/90\n",
            "24/24 [==============================] - 1s 22ms/step - loss: 0.0572 - accuracy: 0.0000e+00\n",
            "Epoch 61/90\n",
            "24/24 [==============================] - 1s 21ms/step - loss: 0.0512 - accuracy: 0.0000e+00\n",
            "Epoch 62/90\n",
            "24/24 [==============================] - 0s 21ms/step - loss: 0.0553 - accuracy: 0.0000e+00\n",
            "Epoch 63/90\n",
            "24/24 [==============================] - 1s 21ms/step - loss: 0.0504 - accuracy: 0.0000e+00\n",
            "Epoch 64/90\n",
            "24/24 [==============================] - 1s 22ms/step - loss: 0.0544 - accuracy: 0.0000e+00\n",
            "Epoch 65/90\n",
            "24/24 [==============================] - 1s 22ms/step - loss: 0.0601 - accuracy: 0.0000e+00\n",
            "Epoch 66/90\n",
            "24/24 [==============================] - 1s 22ms/step - loss: 0.0497 - accuracy: 0.0000e+00\n",
            "Epoch 67/90\n",
            "24/24 [==============================] - 1s 22ms/step - loss: 0.0540 - accuracy: 0.0000e+00\n",
            "Epoch 68/90\n",
            "24/24 [==============================] - 1s 22ms/step - loss: 0.0505 - accuracy: 0.0000e+00\n",
            "Epoch 69/90\n",
            "24/24 [==============================] - 1s 22ms/step - loss: 0.0533 - accuracy: 0.0000e+00\n",
            "Epoch 70/90\n",
            "24/24 [==============================] - 1s 22ms/step - loss: 0.0498 - accuracy: 0.0000e+00\n",
            "Epoch 71/90\n",
            "24/24 [==============================] - 1s 21ms/step - loss: 0.0513 - accuracy: 0.0000e+00\n",
            "Epoch 72/90\n",
            "24/24 [==============================] - 1s 22ms/step - loss: 0.0491 - accuracy: 0.0000e+00\n",
            "Epoch 73/90\n",
            "24/24 [==============================] - 1s 22ms/step - loss: 0.0528 - accuracy: 0.0000e+00\n",
            "Epoch 74/90\n",
            "24/24 [==============================] - 1s 22ms/step - loss: 0.0508 - accuracy: 0.0000e+00\n",
            "Epoch 75/90\n",
            "24/24 [==============================] - 1s 21ms/step - loss: 0.0483 - accuracy: 0.0000e+00\n",
            "Epoch 76/90\n",
            "24/24 [==============================] - 1s 22ms/step - loss: 0.0507 - accuracy: 0.0000e+00\n",
            "Epoch 77/90\n",
            "24/24 [==============================] - 1s 21ms/step - loss: 0.0460 - accuracy: 0.0000e+00\n",
            "Epoch 78/90\n",
            "24/24 [==============================] - 1s 22ms/step - loss: 0.0459 - accuracy: 0.0000e+00\n",
            "Epoch 79/90\n",
            "24/24 [==============================] - 1s 22ms/step - loss: 0.0478 - accuracy: 0.0000e+00\n",
            "Epoch 80/90\n",
            "24/24 [==============================] - 1s 22ms/step - loss: 0.0459 - accuracy: 0.0000e+00\n",
            "Epoch 81/90\n",
            "24/24 [==============================] - 1s 21ms/step - loss: 0.0471 - accuracy: 0.0000e+00\n",
            "Epoch 82/90\n",
            "24/24 [==============================] - 1s 22ms/step - loss: 0.0455 - accuracy: 0.0000e+00\n",
            "Epoch 83/90\n",
            "24/24 [==============================] - 1s 22ms/step - loss: 0.0449 - accuracy: 0.0000e+00\n",
            "Epoch 84/90\n",
            "24/24 [==============================] - 1s 22ms/step - loss: 0.0436 - accuracy: 0.0000e+00\n",
            "Epoch 85/90\n",
            "24/24 [==============================] - 1s 22ms/step - loss: 0.0470 - accuracy: 0.0000e+00\n",
            "Epoch 86/90\n",
            "24/24 [==============================] - 1s 22ms/step - loss: 0.0422 - accuracy: 0.0000e+00\n",
            "Epoch 87/90\n",
            "24/24 [==============================] - 1s 21ms/step - loss: 0.0474 - accuracy: 0.0000e+00\n",
            "Epoch 88/90\n",
            "24/24 [==============================] - 1s 22ms/step - loss: 0.0407 - accuracy: 0.0000e+00\n",
            "Epoch 89/90\n",
            "24/24 [==============================] - 1s 22ms/step - loss: 0.0396 - accuracy: 0.0000e+00\n",
            "Epoch 90/90\n",
            "24/24 [==============================] - 1s 22ms/step - loss: 0.0421 - accuracy: 0.0000e+00\n"
          ],
          "name": "stdout"
        }
      ]
    },
    {
      "cell_type": "code",
      "metadata": {
        "id": "0qYoQFMdJYoB",
        "colab_type": "code",
        "colab": {}
      },
      "source": [
        "#x ve y test veri kümeleri  oluştur\n",
        "x_test = []    \n",
        "y_test =  dataset[training_data_len : , : ] \n",
        "for i in range(60,len(test_data)):\n",
        "  x_test.append(test_data[i-60:i,0])"
      ],
      "execution_count": 0,
      "outputs": []
    },
    {
      "cell_type": "code",
      "metadata": {
        "id": "xraOcu5WJdfH",
        "colab_type": "code",
        "colab": {}
      },
      "source": [
        "x_test = np.array(x_test)  #x sayısal değere dönüştürür\n",
        "x_test = np.reshape(x_test, (x_test.shape[0],x_test.shape[1],1))   # Verileri LSTM tarafından kabul edilen şekle dönüştürün\n",
        "\n",
        "predictions = model.predict(x_test)    #tahmin işlemleri\n",
        "predictions = scaler.inverse_transform(predictions)"
      ],
      "execution_count": 0,
      "outputs": []
    },
    {
      "cell_type": "code",
      "metadata": {
        "id": "6ifPj5VGJi29",
        "colab_type": "code",
        "outputId": "1fe7eb69-aa17-4290-dc11-6ff02321eb8b",
        "colab": {
          "base_uri": "https://localhost:8080/",
          "height": 33
        }
      },
      "source": [
        "#rms değerini hesapla\n",
        "rmse=np.sqrt(np.mean(((predictions- y_test)**2)))\n",
        "rmse\n"
      ],
      "execution_count": 0,
      "outputs": [
        {
          "output_type": "execute_result",
          "data": {
            "text/plain": [
              "51.8018317380519"
            ]
          },
          "metadata": {
            "tags": []
          },
          "execution_count": 14
        }
      ]
    },
    {
      "cell_type": "code",
      "metadata": {
        "id": "tAgyxtO0JjoV",
        "colab_type": "code",
        "colab": {}
      },
      "source": [
        "train = data[:training_data_len]\n",
        "valid = data[training_data_len:]\n",
        "valid['Tahmin'] = predictions\n",
        "plt.figure(figsize=(20,8))\n",
        "plt.title('Model',fontsize=20)\n",
        "plt.xlabel('Tarih', fontsize=20)\n",
        "plt.ylabel('Sebze', fontsize=20)\n",
        "plt.plot(train['Sebze'])\n",
        "plt.plot(valid[['Sebze', 'Tahmin']])\n",
        "plt.legend(['Eğitim', 'Veri', 'Tahmin'], loc='lower right')\n",
        "plt.show()"
      ],
      "execution_count": 0,
      "outputs": []
    },
    {
      "cell_type": "code",
      "metadata": {
        "id": "weGiEIFs-Wtf",
        "colab_type": "code",
        "outputId": "e9b83960-9488-4285-9212-ec81e344d6ef",
        "colab": {
          "base_uri": "https://localhost:8080/",
          "height": 1000
        }
      },
      "source": [
        "valid"
      ],
      "execution_count": 0,
      "outputs": [
        {
          "output_type": "execute_result",
          "data": {
            "text/html": [
              "<div>\n",
              "<style scoped>\n",
              "    .dataframe tbody tr th:only-of-type {\n",
              "        vertical-align: middle;\n",
              "    }\n",
              "\n",
              "    .dataframe tbody tr th {\n",
              "        vertical-align: top;\n",
              "    }\n",
              "\n",
              "    .dataframe thead th {\n",
              "        text-align: right;\n",
              "    }\n",
              "</style>\n",
              "<table border=\"1\" class=\"dataframe\">\n",
              "  <thead>\n",
              "    <tr style=\"text-align: right;\">\n",
              "      <th></th>\n",
              "      <th>Sebze</th>\n",
              "      <th>Tahmin</th>\n",
              "    </tr>\n",
              "  </thead>\n",
              "  <tbody>\n",
              "    <tr>\n",
              "      <th>84</th>\n",
              "      <td>585</td>\n",
              "      <td>664.837158</td>\n",
              "    </tr>\n",
              "    <tr>\n",
              "      <th>85</th>\n",
              "      <td>695</td>\n",
              "      <td>686.099854</td>\n",
              "    </tr>\n",
              "    <tr>\n",
              "      <th>86</th>\n",
              "      <td>706</td>\n",
              "      <td>671.807312</td>\n",
              "    </tr>\n",
              "    <tr>\n",
              "      <th>87</th>\n",
              "      <td>632</td>\n",
              "      <td>651.601624</td>\n",
              "    </tr>\n",
              "    <tr>\n",
              "      <th>88</th>\n",
              "      <td>732</td>\n",
              "      <td>660.852478</td>\n",
              "    </tr>\n",
              "    <tr>\n",
              "      <th>89</th>\n",
              "      <td>729</td>\n",
              "      <td>638.088196</td>\n",
              "    </tr>\n",
              "    <tr>\n",
              "      <th>90</th>\n",
              "      <td>701</td>\n",
              "      <td>619.617126</td>\n",
              "    </tr>\n",
              "    <tr>\n",
              "      <th>91</th>\n",
              "      <td>585</td>\n",
              "      <td>617.944763</td>\n",
              "    </tr>\n",
              "    <tr>\n",
              "      <th>92</th>\n",
              "      <td>698</td>\n",
              "      <td>661.242432</td>\n",
              "    </tr>\n",
              "    <tr>\n",
              "      <th>93</th>\n",
              "      <td>671</td>\n",
              "      <td>659.014404</td>\n",
              "    </tr>\n",
              "    <tr>\n",
              "      <th>94</th>\n",
              "      <td>645</td>\n",
              "      <td>661.998596</td>\n",
              "    </tr>\n",
              "    <tr>\n",
              "      <th>95</th>\n",
              "      <td>670</td>\n",
              "      <td>673.060852</td>\n",
              "    </tr>\n",
              "    <tr>\n",
              "      <th>96</th>\n",
              "      <td>587</td>\n",
              "      <td>672.614014</td>\n",
              "    </tr>\n",
              "    <tr>\n",
              "      <th>97</th>\n",
              "      <td>661</td>\n",
              "      <td>698.367554</td>\n",
              "    </tr>\n",
              "    <tr>\n",
              "      <th>98</th>\n",
              "      <td>624</td>\n",
              "      <td>696.175659</td>\n",
              "    </tr>\n",
              "    <tr>\n",
              "      <th>99</th>\n",
              "      <td>760</td>\n",
              "      <td>702.920044</td>\n",
              "    </tr>\n",
              "    <tr>\n",
              "      <th>100</th>\n",
              "      <td>733</td>\n",
              "      <td>667.733887</td>\n",
              "    </tr>\n",
              "    <tr>\n",
              "      <th>101</th>\n",
              "      <td>656</td>\n",
              "      <td>641.476074</td>\n",
              "    </tr>\n",
              "    <tr>\n",
              "      <th>102</th>\n",
              "      <td>629</td>\n",
              "      <td>649.580994</td>\n",
              "    </tr>\n",
              "    <tr>\n",
              "      <th>103</th>\n",
              "      <td>621</td>\n",
              "      <td>670.336243</td>\n",
              "    </tr>\n",
              "    <tr>\n",
              "      <th>104</th>\n",
              "      <td>693</td>\n",
              "      <td>689.148865</td>\n",
              "    </tr>\n",
              "    <tr>\n",
              "      <th>105</th>\n",
              "      <td>636</td>\n",
              "      <td>677.853149</td>\n",
              "    </tr>\n",
              "    <tr>\n",
              "      <th>106</th>\n",
              "      <td>672</td>\n",
              "      <td>683.515076</td>\n",
              "    </tr>\n",
              "    <tr>\n",
              "      <th>107</th>\n",
              "      <td>725</td>\n",
              "      <td>675.522095</td>\n",
              "    </tr>\n",
              "    <tr>\n",
              "      <th>108</th>\n",
              "      <td>727</td>\n",
              "      <td>655.073669</td>\n",
              "    </tr>\n",
              "    <tr>\n",
              "      <th>109</th>\n",
              "      <td>626</td>\n",
              "      <td>631.497620</td>\n",
              "    </tr>\n",
              "    <tr>\n",
              "      <th>110</th>\n",
              "      <td>729</td>\n",
              "      <td>647.317444</td>\n",
              "    </tr>\n",
              "    <tr>\n",
              "      <th>111</th>\n",
              "      <td>643</td>\n",
              "      <td>631.097107</td>\n",
              "    </tr>\n",
              "    <tr>\n",
              "      <th>112</th>\n",
              "      <td>675</td>\n",
              "      <td>645.652466</td>\n",
              "    </tr>\n",
              "    <tr>\n",
              "      <th>113</th>\n",
              "      <td>716</td>\n",
              "      <td>652.756592</td>\n",
              "    </tr>\n",
              "    <tr>\n",
              "      <th>114</th>\n",
              "      <td>708</td>\n",
              "      <td>640.985779</td>\n",
              "    </tr>\n",
              "    <tr>\n",
              "      <th>115</th>\n",
              "      <td>596</td>\n",
              "      <td>630.193604</td>\n",
              "    </tr>\n",
              "    <tr>\n",
              "      <th>116</th>\n",
              "      <td>626</td>\n",
              "      <td>665.351379</td>\n",
              "    </tr>\n",
              "    <tr>\n",
              "      <th>117</th>\n",
              "      <td>604</td>\n",
              "      <td>685.761108</td>\n",
              "    </tr>\n",
              "    <tr>\n",
              "      <th>118</th>\n",
              "      <td>752</td>\n",
              "      <td>706.931213</td>\n",
              "    </tr>\n",
              "    <tr>\n",
              "      <th>119</th>\n",
              "      <td>739</td>\n",
              "      <td>674.997314</td>\n",
              "    </tr>\n",
              "  </tbody>\n",
              "</table>\n",
              "</div>"
            ],
            "text/plain": [
              "     Sebze      Tahmin\n",
              "84     585  664.837158\n",
              "85     695  686.099854\n",
              "86     706  671.807312\n",
              "87     632  651.601624\n",
              "88     732  660.852478\n",
              "89     729  638.088196\n",
              "90     701  619.617126\n",
              "91     585  617.944763\n",
              "92     698  661.242432\n",
              "93     671  659.014404\n",
              "94     645  661.998596\n",
              "95     670  673.060852\n",
              "96     587  672.614014\n",
              "97     661  698.367554\n",
              "98     624  696.175659\n",
              "99     760  702.920044\n",
              "100    733  667.733887\n",
              "101    656  641.476074\n",
              "102    629  649.580994\n",
              "103    621  670.336243\n",
              "104    693  689.148865\n",
              "105    636  677.853149\n",
              "106    672  683.515076\n",
              "107    725  675.522095\n",
              "108    727  655.073669\n",
              "109    626  631.497620\n",
              "110    729  647.317444\n",
              "111    643  631.097107\n",
              "112    675  645.652466\n",
              "113    716  652.756592\n",
              "114    708  640.985779\n",
              "115    596  630.193604\n",
              "116    626  665.351379\n",
              "117    604  685.761108\n",
              "118    752  706.931213\n",
              "119    739  674.997314"
            ]
          },
          "metadata": {
            "tags": []
          },
          "execution_count": 16
        }
      ]
    }
  ]
}